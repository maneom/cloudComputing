{
 "cells": [
  {
   "cell_type": "markdown",
   "id": "9dd3b4dc-e7c6-4027-bf24-c2a8500f33a4",
   "metadata": {},
   "source": [
    "#### Assignment 1"
   ]
  },
  {
   "cell_type": "code",
   "execution_count": 1,
   "id": "85d4a7cf-5dcd-438d-804f-b0104d167e7c",
   "metadata": {},
   "outputs": [
    {
     "name": "stdin",
     "output_type": "stream",
     "text": [
      "ENTER TOTAL NUMBER OF NODES =  2\n",
      "IS EDGE PRESENT BETWEEN 0 and 1? (y/n)  y\n"
     ]
    },
    {
     "name": "stdout",
     "output_type": "stream",
     "text": [
      "[0, 1]\n",
      "[1, 0]\n",
      "[0, 1]\n",
      "[0, 1]\n"
     ]
    }
   ],
   "source": [
    "def dfs(am, currentNode, visited):\n",
    "    visited.append(currentNode)\n",
    "    for i in range(len(am[currentNode])):\n",
    "        if (am[currentNode][i]==1) and (i not in visited):\n",
    "            dfs(am, i, visited)\n",
    "    return visited\n",
    "\n",
    "def bfs(am, queue, visited):\n",
    "    if queue == []:\n",
    "        return\n",
    "    current = queue[0]\n",
    "    queue = queue[1:]\n",
    "    for i in range(len(am)):\n",
    "        if (am[current][i]==1) and (i not in visited):\n",
    "            visited.append(i)\n",
    "            queue.append(i)\n",
    "    bfs(am, queue, visited)\n",
    "\n",
    "\n",
    "\n",
    "nodes = int(input(\"ENTER TOTAL NUMBER OF NODES = \"))\n",
    "adjancecy_matrix = [[0 for i in range(nodes)] for i in range(nodes)]\n",
    "for i in range(nodes):\n",
    "    for j in range(i+1,nodes):\n",
    "        check = input(f\"IS EDGE PRESENT BETWEEN {i} and {j}? (y/n) \")\n",
    "        if check=='Y' or check=='y':\n",
    "            adjancecy_matrix[i][j] = adjancecy_matrix[j][i] = 1\n",
    "[print(i) for i in adjancecy_matrix]\n",
    "visited = []\n",
    "\n",
    "print(dfs(adjancecy_matrix, 0, visited))   # 0 is start node\n",
    "\n",
    "queue = [0]\n",
    "visited = [0]\n",
    "bfs(adjancecy_matrix, queue, visited)\n",
    "print(visited)"
   ]
  },
  {
   "cell_type": "markdown",
   "id": "41e65a56-572e-41a6-afcd-730f6d09e1c2",
   "metadata": {},
   "source": [
    "#### Assignment 2"
   ]
  },
  {
   "cell_type": "code",
   "execution_count": 55,
   "id": "dfccb6d9-52a1-4f9b-92e3-c765ce2ec6cd",
   "metadata": {},
   "outputs": [
    {
     "name": "stdout",
     "output_type": "stream",
     "text": [
      "(['S', 'A', 'D', 'G'], 11)\n"
     ]
    }
   ],
   "source": [
    "# tree = {'S': [['A', 1], ['B', 2]],\n",
    "#         'A': [['S', 1]],\n",
    "#         'B': [['S', 2], ['C', 3], ['D', 4]],\n",
    "#         'C': [['E', 5], ['B', 3], ['F', 6]],\n",
    "#         'E': [['C', 5]],\n",
    "#         'F': [['C', 6]],\n",
    "#         'D': [['B', 4], ['G', 7]]\n",
    "#         }\n",
    "\n",
    "# heuristic = {'S': 0, 'A': 5000, 'B': 2, 'C': 3, 'D': 4, 'E': 5000, 'F': 5000, 'G': 0}\n",
    "\n",
    "tree = {'S': [['A', 1], ['B', 3]],\n",
    "        'A': [['S', 1], ['D', 5]],\n",
    "        'B': [['S', 3], ['C', 2]],\n",
    "        'C': [['E', 6], ['B', 2], ['F', 3]],\n",
    "        'E': [['C', 6]],\n",
    "        'F': [['C', 3]],\n",
    "        'D': [['A', 5], ['G', 5]],\n",
    "        'G': [['D', 5]]\n",
    "        }\n",
    "\n",
    "heuristic = {'S': 0, 'A': 1, 'B': 2, 'C': 3, 'D': 4, 'E': 5, 'F': 6, 'G': 5}\n",
    "\n",
    "\n",
    "def aStar():\n",
    "    current = 'S'\n",
    "    g = 0\n",
    "    closed = []\n",
    "    leaf = []\n",
    "    while current != 'G':\n",
    "        closed.append(current)\n",
    "        neighbour = []\n",
    "\n",
    "        for node in tree[current]:\n",
    "            n = node[0]\n",
    "            if n not in closed:\n",
    "                h_n = heuristic[n]\n",
    "                g_n = g + node[1]\n",
    "                f_n = h_n + g_n\n",
    "                neighbour.append([n, f_n])\n",
    "\n",
    "        if neighbour == []:\n",
    "            leaf.append(current)\n",
    "            removed = current\n",
    "            current = [l[0] for l in tree[current] if l[0] not in leaf][0]\n",
    "            btrack = [l[1] for l in tree[current] if l[0] == removed][0]\n",
    "            g = g - btrack\n",
    "        else:\n",
    "            smallest_f = neighbour[0][1]\n",
    "            smallest_f_node = neighbour[0][0]\n",
    "            for neigh in neighbour:\n",
    "                if smallest_f > neigh[1]:\n",
    "                    smallest_f = neigh[1]\n",
    "                    smallest_f_node = neigh[0]\n",
    "            g += [l[1] for l in tree[current] if l[0] == smallest_f_node][0]\n",
    "            current = smallest_f_node\n",
    "\n",
    "    final = [i for i in closed if i not in leaf]\n",
    "    path = []\n",
    "    for j in final:\n",
    "        if j not in path:\n",
    "            path.append(j)\n",
    "    path.append('G')\n",
    "    return path, g\n",
    "\n",
    "\n",
    "print(aStar())"
   ]
  },
  {
   "cell_type": "markdown",
   "id": "4721b400-0ebb-4c13-8013-d68385247097",
   "metadata": {},
   "source": [
    "#### Assignment 4"
   ]
  },
  {
   "cell_type": "code",
   "execution_count": 120,
   "id": "98a963c2-cffb-4019-b860-f7280b75c8e5",
   "metadata": {},
   "outputs": [
    {
     "name": "stdin",
     "output_type": "stream",
     "text": [
      "TOTAL NO. OF QUEENS =  2\n"
     ]
    },
    {
     "name": "stdout",
     "output_type": "stream",
     "text": [
      "NO SOLUTION FOUND !!!\n"
     ]
    }
   ],
   "source": [
    "def displayBoard(b):\n",
    "    for i in b:\n",
    "        print(i)\n",
    "\n",
    "def isSafe(board,i,j):\n",
    "    # Checking column\n",
    "    for r in range(0,i):\n",
    "        if board[r][j]==\"Q\":      # keeping column constant\n",
    "            return False\n",
    "\n",
    "    # Checking left diagonal\n",
    "    l_i = i \n",
    "    l_j = j \n",
    "    while(l_i>=0 and l_j>=0):\n",
    "        if board[l_i][l_j]==\"Q\": \n",
    "            return False\n",
    "        l_i -= 1\n",
    "        l_j -= 1\n",
    "\n",
    "    # Checking left diagonal\n",
    "    r_i = i \n",
    "    r_j = j \n",
    "    while(r_i>=0 and r_j<len(board)):\n",
    "        if board[r_i][r_j]==\"Q\": \n",
    "            return False\n",
    "        r_i -= 1\n",
    "        r_j += 1\n",
    "    return True\n",
    "\n",
    "def solve_n_queens_reccursive(board, row, n):\n",
    "    if row==n:\n",
    "        return True\n",
    "\n",
    "    for j in range(n):\n",
    "        if isSafe(board,row,j):\n",
    "            board[row][j]=\"Q\"\n",
    "            if solve_n_queens_reccursive(board, row+1, n):\n",
    "                return True           # To stop further execution after finding a valid placement.  \n",
    "            board[row][j]=\"_\"\n",
    "    return False\n",
    "\n",
    "def solve_n_queens(n):\n",
    "    board = [[\"_\"]*n for i in range(n)]\n",
    "    if solve_n_queens_reccursive(board,0,n):\n",
    "        displayBoard(board)\n",
    "    else:\n",
    "        print(\"NO SOLUTION FOUND !!!\")\n",
    "\n",
    "q = int(input(\"TOTAL NO. OF QUEENS = \"))\n",
    "solve_n_queens(q)"
   ]
  },
  {
   "cell_type": "markdown",
   "id": "87b8ecef-6a32-41e7-ac3e-97bf9950d327",
   "metadata": {},
   "source": [
    "#### ASSIGNMENT 3"
   ]
  },
  {
   "cell_type": "code",
   "execution_count": 135,
   "id": "92fe155d-7855-45f9-ad81-3bba439478d2",
   "metadata": {},
   "outputs": [
    {
     "data": {
      "text/plain": [
       "[[0, 3, 1], [0, 1, 2], [1, 2, 3]]"
      ]
     },
     "execution_count": 135,
     "metadata": {},
     "output_type": "execute_result"
    }
   ],
   "source": [
    "adjancecy_matrix = [[0,2,0,1],\n",
    "                   [2,0,3,0],\n",
    "                   [0,3,0,4],\n",
    "                   [1,0,4,0]]\n",
    "\n",
    "\n",
    "availableNodes = [0]\n",
    "MST = []\n",
    "\n",
    "while len(availableNodes) != len(adjancecy_matrix):\n",
    "    next_available_nodes = []\n",
    "    for node in availableNodes:\n",
    "        for i in range(len(adjancecy_matrix)):\n",
    "            if (adjancecy_matrix[node][i]) and (i not in availableNodes):\n",
    "                next_available_nodes.append([node, i, adjancecy_matrix[node][i]])\n",
    "    min = 97000\n",
    "    for i in next_available_nodes:\n",
    "        if min > i[2]:\n",
    "            min=i[2]\n",
    "            nearestNeigh = i\n",
    "    MST.append(nearestNeigh)\n",
    "    availableNodes.append(nearestNeigh[1])\n",
    "\n",
    "MST"
   ]
  },
  {
   "cell_type": "markdown",
   "id": "89543fd1-7b29-431e-81e6-97e15fe507b0",
   "metadata": {},
   "source": [
    "#### ASSIGNMENT 5"
   ]
  },
  {
   "cell_type": "code",
   "execution_count": null,
   "id": "b1ff6d09-f1d0-4535-8fca-4822baca70b5",
   "metadata": {},
   "outputs": [
    {
     "name": "stdin",
     "output_type": "stream",
     "text": [
      "1.Take Order 2. Genrate Bill 3.Know More 4. Exit 3\n",
      "WHAT DO YOU WANTV TO KNOW? =  man\n"
     ]
    },
    {
     "name": "stdout",
     "output_type": "stream",
     "text": [
      "Don't have knowledge\n"
     ]
    },
    {
     "name": "stdin",
     "output_type": "stream",
     "text": [
      "WHAT DO YOU WANTV TO KNOW? =  lac\n"
     ]
    },
    {
     "name": "stdout",
     "output_type": "stream",
     "text": [
      "Don't have knowledge\n"
     ]
    },
    {
     "name": "stdin",
     "output_type": "stream",
     "text": [
      "WHAT DO YOU WANTV TO KNOW? =  location\n"
     ]
    },
    {
     "name": "stdout",
     "output_type": "stream",
     "text": [
      "We are at ccc\n"
     ]
    },
    {
     "name": "stdin",
     "output_type": "stream",
     "text": [
      "WHAT DO YOU WANTV TO KNOW? =  quit\n"
     ]
    }
   ],
   "source": [
    "import pandas as pd\n",
    "\n",
    "knowledgeBase = {\n",
    "    'owner':\"ABC\",\n",
    "    \"location\":\"ccc\",\n",
    "    \"time\":\"24*7\"\n",
    "}\n",
    "\n",
    "menu = [\n",
    "    ['Vada Pav',15],\n",
    "    ['Maggi',30],\n",
    "    ['Cold Coffie',25]\n",
    "]\n",
    "\n",
    "orders = []\n",
    "total = 0\n",
    "\n",
    "def displayMenu():\n",
    "    print(pd.DataFrame(menu, columns=[\"ITEM\",\"PRICE\"], index=[1,2,3]))\n",
    "\n",
    "def takeOrder():\n",
    "    displayMenu()\n",
    "    ord = int(input(\"PLS GIVE YOUR ORDER = \"))\n",
    "    qty = int(input(\"PLS ENTER QUANTITY  = \"))\n",
    "    if ord<=3 and ord>0:\n",
    "        print(\"YOUR ORDER --> \",menu[ord-1][0], qty)\n",
    "        orders.append([menu[ord-1][0],menu[ord-1][1],qty,menu[ord-1][1]*qty])\n",
    "    else:\n",
    "        print(\"WRONG INPUT\")\n",
    "\n",
    "def genrateBill():\n",
    "    if len(orders):\n",
    "        print(pd.DataFrame(orders,columns=\"ITEM PRICE QTY TOTAL\".split()))\n",
    "    else:\n",
    "        print(\"You hav not given any order\")\n",
    "\n",
    "\n",
    "while(True):\n",
    "    ch = int(input(\"1.Take Order 2. Genrate Bill 3.Know More 4. Exit\"))  \n",
    "    if ch==1:\n",
    "        takeOrder()\n",
    "        flag = input(\"DO YOU WANT TO GIVE MORE ORDER\")\n",
    "        while(flag==\"y\" or flag==\"Y\"):\n",
    "            takeOrder()\n",
    "            flag = input(\"DO YOU WANT TO GIVE MORE ORDER\")\n",
    "    if ch== 2:\n",
    "        genrateBill()\n",
    "    if ch==3:\n",
    "        while True:\n",
    "            query = input(\"WHAT DO YOU WANTV TO KNOW? = \")\n",
    "            if query==\"quit\":\n",
    "                break\n",
    "            query = query.lower()\n",
    "            matchedKey = [i for i in query.split() if i in list(knowledgeBase.keys())]\n",
    "            for i in matchedKey:\n",
    "                if i==\"time\":\n",
    "                    print(f\"We are open at {knowledgeBase[i]}\")\n",
    "                elif i==\"location\":\n",
    "                    print(f\"We are at {knowledgeBase[i]}\")\n",
    "                elif i==\"owner\":\n",
    "                    print(f\"Our owner is {knowledgeBase[i]}\")\n",
    "            if len(matchedKey)==0:\n",
    "                    print(\"Don't have knowledge\")\n",
    "    if ch==4:\n",
    "        break"
   ]
  },
  {
   "cell_type": "code",
   "execution_count": 2,
   "id": "33413586-40c4-47e9-a512-2b4f2fb794aa",
   "metadata": {},
   "outputs": [
    {
     "name": "stdout",
     "output_type": "stream",
     "text": [
      "Empty DataFrame\n",
      "Columns: [ITEM, PRICE, QTY, TOTAL]\n",
      "Index: []\n"
     ]
    }
   ],
   "source": [
    "genrateBill()"
   ]
  },
  {
   "cell_type": "code",
   "execution_count": 8,
   "id": "d3d30080-bc2f-4ed8-b76d-02cb62b42f8a",
   "metadata": {},
   "outputs": [
    {
     "data": {
      "text/plain": [
       "['owner', 'location', 'time']"
      ]
     },
     "execution_count": 8,
     "metadata": {},
     "output_type": "execute_result"
    }
   ],
   "source": [
    "list(knowledgeBase.keys())"
   ]
  },
  {
   "cell_type": "code",
   "execution_count": null,
   "id": "0edb3894-bbb7-4c21-b5e2-1c815bc6f432",
   "metadata": {},
   "outputs": [],
   "source": []
  }
 ],
 "metadata": {
  "kernelspec": {
   "display_name": "Python 3 (ipykernel)",
   "language": "python",
   "name": "python3"
  },
  "language_info": {
   "codemirror_mode": {
    "name": "ipython",
    "version": 3
   },
   "file_extension": ".py",
   "mimetype": "text/x-python",
   "name": "python",
   "nbconvert_exporter": "python",
   "pygments_lexer": "ipython3",
   "version": "3.12.1"
  }
 },
 "nbformat": 4,
 "nbformat_minor": 5
}
